{
 "cells": [
  {
   "cell_type": "markdown",
   "metadata": {
    "id": "VFj0sSM06dYa"
   },
   "source": [
    "#**Maestría en Inteligencia Artificial Aplicada**\n",
    "\n",
    "##**Curso: Inteligencia Artificial y Aprendizaje Automático**\n",
    "\n",
    "###Tecnológico de Monterrey\n",
    "\n",
    "###Prof Luis Eduardo Falcón Morales\n",
    "\n",
    "## **Adtividad de la Semana 8**\n",
    "###**Máquina de Vector Soporte - Support Vector Machine(SVM)**\n"
   ]
  },
  {
   "cell_type": "markdown",
   "metadata": {
    "id": "Qgrvy0RGB9XI"
   },
   "source": [
    "**Nombres y matrículas de los integrantes del equipo:**\n",
    "\n",
    "* Genaro Rodriguez Vazquez A01150931\n",
    "* Juan Pablo Acosta López A01794035\n",
    "* Maria Nelly Porras Alcantar A01793828\n",
    "* Juan Carlos Torres Luna A01163204"
   ]
  },
  {
   "cell_type": "markdown",
   "metadata": {
    "id": "FrJ2ahMODVj1"
   },
   "source": [
    "En cada sección deberás incluir todas las líneas de código necesarias para responder a cada uno de los ejercicios."
   ]
  },
  {
   "cell_type": "code",
   "execution_count": 8,
   "metadata": {
    "id": "exXsscs-Dh-2"
   },
   "outputs": [],
   "source": [
    "# Incluye aquí todos módulos, librerías y paquetes que requieras.\n",
    "import numpy as np\n",
    "import pandas as pd\n",
    "import matplotlib.pyplot as plt\n",
    "\n",
    "from sklearn.model_selection import train_test_split\n",
    "from sklearn.preprocessing import StandardScaler\n",
    "import seaborn as sns \n",
    "\n",
    "#For pipeline creation\n",
    "from sklearn.pipeline import Pipeline\n",
    "from sklearn.compose import ColumnTransformer\n",
    "\n",
    "#For scoring RMSE, MAE y MAPE\n",
    "from sklearn.model_selection import RepeatedStratifiedKFold\n",
    "from sklearn.metrics import classification_report, make_scorer\n",
    "from sklearn.model_selection import cross_validate \n",
    "from sklearn.metrics import mean_absolute_percentage_error\n",
    "from tabulate import tabulate\n",
    "\n",
    "# models from sklearn to test\n",
    "from sklearn.dummy import DummyClassifier\n",
    "\n",
    "#Gridsearch and importance\n",
    "from sklearn.model_selection import GridSearchCV\n",
    "from sklearn.inspection import permutation_importance\n",
    "\n",
    "from sklearn.preprocessing import power_transform\n",
    "from sklearn.preprocessing import PowerTransformer\n",
    "from sklearn.impute import SimpleImputer\n",
    "from sklearn.preprocessing import FunctionTransformer\n",
    "import math as math\n",
    "\n",
    "\n",
    "from sklearn.metrics import recall_score, accuracy_score, precision_score, f1_score\n",
    "from sklearn import svm\n",
    "from sklearn.metrics import confusion_matrix, precision_recall_curve\n",
    "from sklearn.model_selection import learning_curve, validation_curve\n",
    "from sklearn import metrics\n",
    "from sklearn.metrics import RocCurveDisplay   \n",
    "\n",
    "scaler = StandardScaler()"
   ]
  },
  {
   "cell_type": "markdown",
   "metadata": {
    "id": "X25brD-gQdZM"
   },
   "source": [
    "#**Ejercicio-1.** \n",
    "\n",
    "Realiza una partición de los datos con 15% en el conjunto de prueba y el resto para entrenamiento y \n",
    "validación. Usa un random_state=0. "
   ]
  },
  {
   "cell_type": "code",
   "execution_count": 9,
   "metadata": {
    "id": "3nU2GuWYCy6C",
    "scrolled": true
   },
   "outputs": [
    {
     "data": {
      "text/html": [
       "<div>\n",
       "<style scoped>\n",
       "    .dataframe tbody tr th:only-of-type {\n",
       "        vertical-align: middle;\n",
       "    }\n",
       "\n",
       "    .dataframe tbody tr th {\n",
       "        vertical-align: top;\n",
       "    }\n",
       "\n",
       "    .dataframe thead th {\n",
       "        text-align: right;\n",
       "    }\n",
       "</style>\n",
       "<table border=\"1\" class=\"dataframe\">\n",
       "  <thead>\n",
       "    <tr style=\"text-align: right;\">\n",
       "      <th></th>\n",
       "      <th>A1</th>\n",
       "      <th>A2</th>\n",
       "      <th>A3</th>\n",
       "      <th>A4</th>\n",
       "      <th>A5</th>\n",
       "      <th>A6</th>\n",
       "      <th>A7</th>\n",
       "      <th>A8</th>\n",
       "      <th>A9</th>\n",
       "      <th>A10</th>\n",
       "      <th>A11</th>\n",
       "      <th>A12</th>\n",
       "      <th>A13</th>\n",
       "      <th>A14</th>\n",
       "      <th>A15</th>\n",
       "    </tr>\n",
       "  </thead>\n",
       "  <tbody>\n",
       "    <tr>\n",
       "      <th>0</th>\n",
       "      <td>1</td>\n",
       "      <td>22.08</td>\n",
       "      <td>11.46</td>\n",
       "      <td>2</td>\n",
       "      <td>4</td>\n",
       "      <td>4</td>\n",
       "      <td>1.585</td>\n",
       "      <td>0</td>\n",
       "      <td>0</td>\n",
       "      <td>0</td>\n",
       "      <td>1</td>\n",
       "      <td>2</td>\n",
       "      <td>100</td>\n",
       "      <td>1213</td>\n",
       "      <td>0</td>\n",
       "    </tr>\n",
       "    <tr>\n",
       "      <th>1</th>\n",
       "      <td>0</td>\n",
       "      <td>22.67</td>\n",
       "      <td>7.00</td>\n",
       "      <td>2</td>\n",
       "      <td>8</td>\n",
       "      <td>4</td>\n",
       "      <td>0.165</td>\n",
       "      <td>0</td>\n",
       "      <td>0</td>\n",
       "      <td>0</td>\n",
       "      <td>0</td>\n",
       "      <td>2</td>\n",
       "      <td>160</td>\n",
       "      <td>1</td>\n",
       "      <td>0</td>\n",
       "    </tr>\n",
       "    <tr>\n",
       "      <th>2</th>\n",
       "      <td>0</td>\n",
       "      <td>29.58</td>\n",
       "      <td>1.75</td>\n",
       "      <td>1</td>\n",
       "      <td>4</td>\n",
       "      <td>4</td>\n",
       "      <td>1.250</td>\n",
       "      <td>0</td>\n",
       "      <td>0</td>\n",
       "      <td>0</td>\n",
       "      <td>1</td>\n",
       "      <td>2</td>\n",
       "      <td>280</td>\n",
       "      <td>1</td>\n",
       "      <td>0</td>\n",
       "    </tr>\n",
       "  </tbody>\n",
       "</table>\n",
       "</div>"
      ],
      "text/plain": [
       "   A1     A2     A3  A4  A5  A6     A7  A8  A9  A10  A11  A12  A13   A14  A15\n",
       "0   1  22.08  11.46   2   4   4  1.585   0   0    0    1    2  100  1213    0\n",
       "1   0  22.67   7.00   2   8   4  0.165   0   0    0    0    2  160     1    0\n",
       "2   0  29.58   1.75   1   4   4  1.250   0   0    0    1    2  280     1    0"
      ]
     },
     "execution_count": 9,
     "metadata": {},
     "output_type": "execute_result"
    }
   ],
   "source": [
    "df = pd.read_csv('australian.dat', sep=\" \", header=None)\n",
    "df = df.rename(columns={0:\"A1\"})\n",
    "df = df.rename(columns={1:\"A2\"})\n",
    "df = df.rename(columns={2:\"A3\"})\n",
    "df = df.rename(columns={3:\"A4\"})\n",
    "df = df.rename(columns={4:\"A5\"})\n",
    "df = df.rename(columns={5:\"A6\"})\n",
    "df = df.rename(columns={6:\"A7\"})\n",
    "df = df.rename(columns={7:\"A8\"})\n",
    "df = df.rename(columns={8:\"A9\"})\n",
    "df = df.rename(columns={9:\"A10\"})\n",
    "df = df.rename(columns={10:\"A11\"})\n",
    "df = df.rename(columns={11:\"A12\"})\n",
    "df = df.rename(columns={12:\"A13\"})\n",
    "df = df.rename(columns={13:\"A14\"})\n",
    "df = df.rename(columns={14:\"A15\"})\n",
    "\n",
    "\n",
    "df .head(3) "
   ]
  },
  {
   "cell_type": "code",
   "execution_count": 10,
   "metadata": {
    "id": "0ulkqXVGCy97"
   },
   "outputs": [
    {
     "name": "stdout",
     "output_type": "stream",
     "text": [
      "(586, 14) : dimensión de datos de entrada \"X\" para entrenamiento y validación\n",
      "(104, 14) : dimensión de datos de entrada \"X\" para prueba\n",
      "(586, 1) : dimensión de variable de salida  \"Y\" para  entrenamiento y validación\n",
      "(104, 1) : dimensión de variable de salida \"Y\" para prueba\n"
     ]
    }
   ],
   "source": [
    "y = df[['A15']]\n",
    "X = df.drop(columns='A15')\n",
    "\n",
    "\n",
    "Xtv, Xtest, ytv, ytest = train_test_split(X, y, test_size=.15, random_state=0)\n",
    "\n",
    "print(Xtv.shape, ': dimensión de datos de entrada \"X\" para entrenamiento y validación')\n",
    "print(Xtest.shape, ': dimensión de datos de entrada \"X\" para prueba')  \n",
    "\n",
    "print(ytv.shape, ': dimensión de variable de salida  \"Y\" para  entrenamiento y validación')\n",
    "print(ytest.shape, ': dimensión de variable de salida \"Y\" para prueba')\n"
   ]
  },
  {
   "cell_type": "markdown",
   "metadata": {
    "id": "xZhr2hkECzVv"
   },
   "source": [
    "#**Ejercicio-2.**\n",
    "\n",
    "Hacer una análisis de los datos y llevar a cabo las transformaciones que consideres adecuadas. \n",
    "Utiliza un Pipeline para evitar el filtrado de información. \n"
   ]
  },
  {
   "cell_type": "code",
   "execution_count": 11,
   "metadata": {
    "id": "GOydw5OGC1MJ"
   },
   "outputs": [
    {
     "data": {
      "text/html": [
       "<div>\n",
       "<style scoped>\n",
       "    .dataframe tbody tr th:only-of-type {\n",
       "        vertical-align: middle;\n",
       "    }\n",
       "\n",
       "    .dataframe tbody tr th {\n",
       "        vertical-align: top;\n",
       "    }\n",
       "\n",
       "    .dataframe thead th {\n",
       "        text-align: right;\n",
       "    }\n",
       "</style>\n",
       "<table border=\"1\" class=\"dataframe\">\n",
       "  <thead>\n",
       "    <tr style=\"text-align: right;\">\n",
       "      <th></th>\n",
       "      <th>A1</th>\n",
       "      <th>A2</th>\n",
       "      <th>A3</th>\n",
       "      <th>A4</th>\n",
       "      <th>A5</th>\n",
       "      <th>A6</th>\n",
       "      <th>A7</th>\n",
       "      <th>A8</th>\n",
       "      <th>A9</th>\n",
       "      <th>A10</th>\n",
       "      <th>A11</th>\n",
       "      <th>A12</th>\n",
       "      <th>A13</th>\n",
       "      <th>A14</th>\n",
       "    </tr>\n",
       "  </thead>\n",
       "  <tbody>\n",
       "    <tr>\n",
       "      <th>0</th>\n",
       "      <td>1.503067</td>\n",
       "      <td>0.560418</td>\n",
       "      <td>1.509487</td>\n",
       "      <td>2.497742</td>\n",
       "      <td>-1.034430</td>\n",
       "      <td>0.750068</td>\n",
       "      <td>1.0</td>\n",
       "      <td>1.0</td>\n",
       "      <td>1.0</td>\n",
       "      <td>1.0</td>\n",
       "      <td>2.0</td>\n",
       "      <td>3.0</td>\n",
       "      <td>5.0</td>\n",
       "      <td>2.0</td>\n",
       "    </tr>\n",
       "    <tr>\n",
       "      <th>1</th>\n",
       "      <td>-0.984063</td>\n",
       "      <td>-0.705364</td>\n",
       "      <td>-0.633169</td>\n",
       "      <td>-0.487323</td>\n",
       "      <td>-0.235012</td>\n",
       "      <td>-0.183013</td>\n",
       "      <td>1.0</td>\n",
       "      <td>0.0</td>\n",
       "      <td>0.0</td>\n",
       "      <td>0.0</td>\n",
       "      <td>1.0</td>\n",
       "      <td>4.0</td>\n",
       "      <td>4.0</td>\n",
       "      <td>2.0</td>\n",
       "    </tr>\n",
       "    <tr>\n",
       "      <th>2</th>\n",
       "      <td>-0.344997</td>\n",
       "      <td>-0.547516</td>\n",
       "      <td>-0.094633</td>\n",
       "      <td>0.109690</td>\n",
       "      <td>1.078318</td>\n",
       "      <td>-0.079171</td>\n",
       "      <td>1.0</td>\n",
       "      <td>1.0</td>\n",
       "      <td>1.0</td>\n",
       "      <td>1.0</td>\n",
       "      <td>1.0</td>\n",
       "      <td>6.0</td>\n",
       "      <td>4.0</td>\n",
       "      <td>2.0</td>\n",
       "    </tr>\n",
       "    <tr>\n",
       "      <th>3</th>\n",
       "      <td>-0.682235</td>\n",
       "      <td>-0.863212</td>\n",
       "      <td>0.084879</td>\n",
       "      <td>0.706703</td>\n",
       "      <td>0.153277</td>\n",
       "      <td>-0.118952</td>\n",
       "      <td>1.0</td>\n",
       "      <td>1.0</td>\n",
       "      <td>1.0</td>\n",
       "      <td>1.0</td>\n",
       "      <td>1.0</td>\n",
       "      <td>9.0</td>\n",
       "      <td>4.0</td>\n",
       "      <td>2.0</td>\n",
       "    </tr>\n",
       "    <tr>\n",
       "      <th>4</th>\n",
       "      <td>-0.323920</td>\n",
       "      <td>-0.655412</td>\n",
       "      <td>-0.094633</td>\n",
       "      <td>1.701725</td>\n",
       "      <td>1.443767</td>\n",
       "      <td>-0.177223</td>\n",
       "      <td>1.0</td>\n",
       "      <td>1.0</td>\n",
       "      <td>1.0</td>\n",
       "      <td>1.0</td>\n",
       "      <td>2.0</td>\n",
       "      <td>9.0</td>\n",
       "      <td>4.0</td>\n",
       "      <td>2.0</td>\n",
       "    </tr>\n",
       "    <tr>\n",
       "      <th>...</th>\n",
       "      <td>...</td>\n",
       "      <td>...</td>\n",
       "      <td>...</td>\n",
       "      <td>...</td>\n",
       "      <td>...</td>\n",
       "      <td>...</td>\n",
       "      <td>...</td>\n",
       "      <td>...</td>\n",
       "      <td>...</td>\n",
       "      <td>...</td>\n",
       "      <td>...</td>\n",
       "      <td>...</td>\n",
       "      <td>...</td>\n",
       "      <td>...</td>\n",
       "    </tr>\n",
       "    <tr>\n",
       "      <th>581</th>\n",
       "      <td>-0.548183</td>\n",
       "      <td>-0.355700</td>\n",
       "      <td>-0.310047</td>\n",
       "      <td>-0.288319</td>\n",
       "      <td>-1.034430</td>\n",
       "      <td>-0.179651</td>\n",
       "      <td>1.0</td>\n",
       "      <td>0.0</td>\n",
       "      <td>1.0</td>\n",
       "      <td>0.0</td>\n",
       "      <td>2.0</td>\n",
       "      <td>8.0</td>\n",
       "      <td>4.0</td>\n",
       "      <td>2.0</td>\n",
       "    </tr>\n",
       "    <tr>\n",
       "      <th>582</th>\n",
       "      <td>-0.260687</td>\n",
       "      <td>-0.247804</td>\n",
       "      <td>-0.525462</td>\n",
       "      <td>-0.487323</td>\n",
       "      <td>-0.057998</td>\n",
       "      <td>-0.183760</td>\n",
       "      <td>0.0</td>\n",
       "      <td>1.0</td>\n",
       "      <td>0.0</td>\n",
       "      <td>1.0</td>\n",
       "      <td>2.0</td>\n",
       "      <td>3.0</td>\n",
       "      <td>5.0</td>\n",
       "      <td>2.0</td>\n",
       "    </tr>\n",
       "    <tr>\n",
       "      <th>583</th>\n",
       "      <td>-0.583593</td>\n",
       "      <td>-0.847227</td>\n",
       "      <td>-0.381852</td>\n",
       "      <td>-0.487323</td>\n",
       "      <td>-0.349214</td>\n",
       "      <td>-0.183573</td>\n",
       "      <td>1.0</td>\n",
       "      <td>0.0</td>\n",
       "      <td>0.0</td>\n",
       "      <td>1.0</td>\n",
       "      <td>2.0</td>\n",
       "      <td>7.0</td>\n",
       "      <td>4.0</td>\n",
       "      <td>2.0</td>\n",
       "    </tr>\n",
       "    <tr>\n",
       "      <th>584</th>\n",
       "      <td>1.348780</td>\n",
       "      <td>-0.897179</td>\n",
       "      <td>3.639217</td>\n",
       "      <td>3.492763</td>\n",
       "      <td>-1.034430</td>\n",
       "      <td>2.617723</td>\n",
       "      <td>1.0</td>\n",
       "      <td>1.0</td>\n",
       "      <td>1.0</td>\n",
       "      <td>0.0</td>\n",
       "      <td>2.0</td>\n",
       "      <td>8.0</td>\n",
       "      <td>5.0</td>\n",
       "      <td>2.0</td>\n",
       "    </tr>\n",
       "    <tr>\n",
       "      <th>585</th>\n",
       "      <td>0.955055</td>\n",
       "      <td>-0.897179</td>\n",
       "      <td>-0.166438</td>\n",
       "      <td>1.104712</td>\n",
       "      <td>-0.463417</td>\n",
       "      <td>-0.113723</td>\n",
       "      <td>1.0</td>\n",
       "      <td>1.0</td>\n",
       "      <td>1.0</td>\n",
       "      <td>0.0</td>\n",
       "      <td>1.0</td>\n",
       "      <td>13.0</td>\n",
       "      <td>8.0</td>\n",
       "      <td>2.0</td>\n",
       "    </tr>\n",
       "  </tbody>\n",
       "</table>\n",
       "<p>586 rows × 14 columns</p>\n",
       "</div>"
      ],
      "text/plain": [
       "           A1        A2        A3        A4        A5        A6   A7   A8  \\\n",
       "0    1.503067  0.560418  1.509487  2.497742 -1.034430  0.750068  1.0  1.0   \n",
       "1   -0.984063 -0.705364 -0.633169 -0.487323 -0.235012 -0.183013  1.0  0.0   \n",
       "2   -0.344997 -0.547516 -0.094633  0.109690  1.078318 -0.079171  1.0  1.0   \n",
       "3   -0.682235 -0.863212  0.084879  0.706703  0.153277 -0.118952  1.0  1.0   \n",
       "4   -0.323920 -0.655412 -0.094633  1.701725  1.443767 -0.177223  1.0  1.0   \n",
       "..        ...       ...       ...       ...       ...       ...  ...  ...   \n",
       "581 -0.548183 -0.355700 -0.310047 -0.288319 -1.034430 -0.179651  1.0  0.0   \n",
       "582 -0.260687 -0.247804 -0.525462 -0.487323 -0.057998 -0.183760  0.0  1.0   \n",
       "583 -0.583593 -0.847227 -0.381852 -0.487323 -0.349214 -0.183573  1.0  0.0   \n",
       "584  1.348780 -0.897179  3.639217  3.492763 -1.034430  2.617723  1.0  1.0   \n",
       "585  0.955055 -0.897179 -0.166438  1.104712 -0.463417 -0.113723  1.0  1.0   \n",
       "\n",
       "      A9  A10  A11   A12  A13  A14  \n",
       "0    1.0  1.0  2.0   3.0  5.0  2.0  \n",
       "1    0.0  0.0  1.0   4.0  4.0  2.0  \n",
       "2    1.0  1.0  1.0   6.0  4.0  2.0  \n",
       "3    1.0  1.0  1.0   9.0  4.0  2.0  \n",
       "4    1.0  1.0  2.0   9.0  4.0  2.0  \n",
       "..   ...  ...  ...   ...  ...  ...  \n",
       "581  1.0  0.0  2.0   8.0  4.0  2.0  \n",
       "582  0.0  1.0  2.0   3.0  5.0  2.0  \n",
       "583  0.0  1.0  2.0   7.0  4.0  2.0  \n",
       "584  1.0  0.0  2.0   8.0  5.0  2.0  \n",
       "585  1.0  0.0  1.0  13.0  8.0  2.0  \n",
       "\n",
       "[586 rows x 14 columns]"
      ]
     },
     "execution_count": 11,
     "metadata": {},
     "output_type": "execute_result"
    }
   ],
   "source": [
    "\"\"\"\n",
    "A1: 0,1 CATEGORICAL (formerly: a,b)\n",
    "A2: continuous.\n",
    "A3: continuous.\n",
    "A4: 1,2,3 CATEGORICAL (formerly: p,g,gg)\n",
    "A5: 1, 2,3,4,5, 6,7,8,9,10,11,12,13,14 CATEGORICAL (formerly: ff,d,i,k,j,aa,m,c,w, e, q, r,cc, x)\n",
    "A6: 1, 2,3, 4,5,6,7,8,9 CATEGORICAL (formerly: ff,dd,j,bb,v,n,o,h,z)\n",
    "A7: continuous.\n",
    "A8: 1, 0 CATEGORICAL (formerly: t, f)\n",
    "A9: 1, 0 CATEGORICAL (formerly: t, f)\n",
    "A10: continuous.\n",
    "A11: 1, 0 CATEGORICAL (formerly t, f)\n",
    "A12: 1, 2, 3 CATEGORICAL (formerly: s, g, p)\n",
    "A13: continuous.\n",
    "A14: continuous.\n",
    "A15: 1,2 class attribute (formerly: +,-)\n",
    "\"\"\"\n",
    "\n",
    "#Never put OUTPUT variable on the transformation pipeline where the INPUT transfromation happens, create a new one if needed\n",
    "quantitative_features = ['A2','A3','A7','A10','A13','A14']\n",
    "categorical_features = ['A1','A8','A9','A11','A4','A5','A6', 'A12']\n",
    "\n",
    "\n",
    "quantitative_transformer = Pipeline(\n",
    "    [\n",
    "    ('imputer_quantitative', SimpleImputer(strategy='mean')),\n",
    "    ('scaler', StandardScaler())\n",
    "    ]\n",
    ")\n",
    "     \n",
    "categorical_transformer = Pipeline(\n",
    "    [\n",
    "    ('imputer_categorical', SimpleImputer(strategy='most_frequent'))\n",
    "    ]\n",
    ")\n",
    "\n",
    "#Define the column transformer that applies pipelines to the dependent variable\n",
    "preprocessor = ColumnTransformer(\n",
    "        transformers = [\n",
    "            ('quantitative_transformer', quantitative_transformer, quantitative_features),\n",
    "            ('categorical_transformer', categorical_transformer, categorical_features)\n",
    "        ], remainder='passthrough'\n",
    ")\n",
    "\n",
    "#Call column transformer\n",
    "XtrainFit = preprocessor.fit(Xtv)\n",
    "XtrainvalTransf = pd.DataFrame(XtrainFit.transform(Xtv))\n",
    "\n",
    "New_Labels=['A1','A2','A3','A4','A5','A6','A7','A8','A9','A10','A11','A12','A13','A14']\n",
    "\n",
    "XtrainvalTransf.columns = New_Labels\n",
    "XtrainvalTransf\n"
   ]
  },
  {
   "cell_type": "markdown",
   "metadata": {
    "id": "NCunuooTC2W3"
   },
   "source": [
    "#**Ejercicio-3.**\n",
    "\n",
    "Utiliza la función Dummy para modelos de clasificación con la estrategia “stratified” con el conjunto \n",
    "que tienes de datos de entrenamiento y validación. Obtener los valores de partida (baseline) de las \n",
    "siguientes métricas: accuracy, f1-score, precision y recall.\n",
    "\n",
    "¿Por qué consideras que es adecuado usar la estrategia “stratified” en este caso?\n",
    "\n",
    "    Por tratarse de un problema de clasificacion y no de regresion."
   ]
  },
  {
   "cell_type": "code",
   "execution_count": 12,
   "metadata": {
    "id": "YXlcSWA-C4Dj"
   },
   "outputs": [
    {
     "name": "stdout",
     "output_type": "stream",
     "text": [
      "(498, 14) : dimensión de datos de entrada \"X\" para entrenamiento \n",
      "(88, 14) : dimensión de datos de entrada \"X\" para validación\n",
      "(498, 1) : dimensión de datos de salida \"y\" para entrenamiento \n",
      "(88, 1) : dimensión de datos de salida \"y\" para validación\n"
     ]
    }
   ],
   "source": [
    "Xtraintransf, Xvaltransf, Ytraintransf, Yvaltransf = train_test_split(XtrainvalTransf,ytv, train_size=.85, random_state=1)\n",
    "\n",
    "#print(Xtv.shape     , ': dimensión de datos de entrada \"X\" para entrenamiento y validación')\n",
    "print(Xtraintransf.shape , ': dimensión de datos de entrada \"X\" para entrenamiento ')\n",
    "print(Xvaltransf.shape   , ': dimensión de datos de entrada \"X\" para validación')\n",
    "\n",
    "\n",
    "#print(ytv.shape, ': dimensión de datos de salida \"y\" para entrenamiento y validación')\n",
    "print(Ytraintransf.shape, ': dimensión de datos de salida \"y\" para entrenamiento ')\n",
    "print(Yvaltransf.shape, ': dimensión de datos de salida \"y\" para validación')\n",
    "\n",
    "#Xtraintransf"
   ]
  },
  {
   "cell_type": "code",
   "execution_count": 13,
   "metadata": {
    "id": "BKI80-YdC4HN"
   },
   "outputs": [
    {
     "name": "stdout",
     "output_type": "stream",
     "text": [
      "Resultados Dummy Classifier - Entrenamiento\n",
      "acc_train:  0.4919678714859438\n",
      "F1 score_train:  0.4842293569343753\n",
      "Precision_train:  0.48456000132106936\n",
      "Recall_train:  0.48478982300884954\n",
      "\n",
      "\n",
      "Resultados Dummy Classifier - Validacion\n",
      "acc_val:  0.5795454545454546\n",
      "F1 score_val:  0.5669636919803165\n",
      "Precision_val:  0.5668421052631579\n",
      "Recall_val:  0.5684636118598383\n"
     ]
    }
   ],
   "source": [
    "\n",
    "dummy_regr = DummyClassifier(strategy=\"stratified\")\n",
    "\n",
    "\n",
    "dummy_regr.fit(Xtraintransf, Ytraintransf)\n",
    "\n",
    "#For Training dataset scoring\n",
    "yhat = pd.DataFrame(dummy_regr.predict(Xtraintransf))\n",
    "\n",
    "#For validation dataset scoring\n",
    "ypred = pd.DataFrame(dummy_regr.predict(Xvaltransf))\n",
    "\n",
    "print(\"Resultados Dummy Classifier - Entrenamiento\")\n",
    "\n",
    "train_acc = accuracy_score(Ytraintransf,yhat)           \n",
    "print(\"acc_train: \",train_acc)\n",
    "\n",
    "train_f1score = f1_score(Ytraintransf,yhat, average='macro')           \n",
    "print(\"F1 score_train: \",train_f1score)\n",
    "\n",
    "train_prec = precision_score(Ytraintransf,yhat, average='macro')           \n",
    "print(\"Precision_train: \",train_prec)\n",
    "\n",
    "train_recall = recall_score(Ytraintransf,yhat, average='macro')           \n",
    "print(\"Recall_train: \",train_recall)\n",
    "\n",
    "print(\"\\n\")\n",
    "\n",
    "print(\"Resultados Dummy Classifier - Validacion\")\n",
    "\n",
    "val_acc = accuracy_score(Yvaltransf,ypred)           \n",
    "print(\"acc_val: \",val_acc)\n",
    "\n",
    "val_f1score = f1_score(Yvaltransf,ypred, average='macro')           \n",
    "print(\"F1 score_val: \",val_f1score)\n",
    "\n",
    "val_prec = precision_score(Yvaltransf,ypred, average='macro')           \n",
    "print(\"Precision_val: \",val_prec)\n",
    "\n",
    "val_recall = recall_score(Yvaltransf,ypred, average='macro')           \n",
    "print(\"Recall_val: \",val_recall)\n"
   ]
  },
  {
   "cell_type": "code",
   "execution_count": null,
   "metadata": {},
   "outputs": [],
   "source": []
  },
  {
   "cell_type": "markdown",
   "metadata": {
    "id": "chqk9jIDC5Pq"
   },
   "source": [
    "#**Ejercicio-4.**\n",
    "\n",
    "Usando el modelo de máquina de vector soporte (SVM) encuentra sus mejores hiperparámetros \n",
    "con una búsqueda de malla y validación cruzada, desplegando los errores indicados en el ejercicio \n",
    "anterior. \n",
    "\n",
    "    El ejercicio anterior no pide errores, sino metricas de desempeno. Por ello, hemos hecho este ejercicio basandonos en lo solicitado anteriormente (accuracy, f1score, recall and precision)"
   ]
  },
  {
   "cell_type": "code",
   "execution_count": 14,
   "metadata": {},
   "outputs": [
    {
     "name": "stdout",
     "output_type": "stream",
     "text": [
      "SVC(C=10, class_weight='balanced', degree=2, kernel='poly', max_iter=1000)\n",
      "Best recall scored=0.855):\n"
     ]
    }
   ],
   "source": [
    "import warnings\n",
    "\n",
    "\n",
    "warnings.filterwarnings(\"ignore\")\n",
    "\n",
    "#MAPEscorer = make_scorer(mi_MAPE, greater_is_better= False)\n",
    "#MAPEscorer = make_scorer(mean_absolute_percentage_error, greater_is_better= False)\n",
    "Recall_scorer = make_scorer(f1_score, greater_is_better= True)\n",
    "\n",
    "SVM_model = svm.SVC()\n",
    "kfold = RepeatedStratifiedKFold(n_splits=5, n_repeats=3)\n",
    "\n",
    "\n",
    "###################################OJO, CORRER TODAS ESTAS COMBINACIONES TOMA MAS DE 12 HORAS !!!!!!#################\n",
    "GS_SVM = GridSearchCV(estimator=SVM_model,\n",
    "            param_grid=({'C':[10, 1, 0.1, 0.01],\n",
    "                        'kernel':['linear', 'poly', 'rbf', 'sigmoid'],\n",
    "                        'degree':[None, 2, 3, 4, 5],\n",
    "                        'gamma': ['scale', 'auto'],\n",
    "                        'class_weight': ['balanced', None],\n",
    "                        'max_iter': [100, 500, 1000]}),scoring= Recall_scorer)\n",
    "                   \n",
    "\n",
    "GS_SVM_fit = GS_SVM.fit(XtrainvalTransf,ytv.values.ravel())\n",
    "print(GS_SVM.best_estimator_)\n",
    "print(\"Best recall scored=%0.3f):\" % GS_SVM.best_score_)"
   ]
  },
  {
   "cell_type": "code",
   "execution_count": 15,
   "metadata": {},
   "outputs": [
    {
     "name": "stdout",
     "output_type": "stream",
     "text": [
      "Resultados Support Vector Machine - Test dataset using requested metrics (custom layout)\n",
      "accuracy:  0.625\n",
      "F1 score_val:  0.5180035650623886\n",
      "Precision_val:  0.7444444444444445\n",
      "Recall_val:  0.578335832083958\n"
     ]
    }
   ],
   "source": [
    "BestSVM_Model = svm.SVC(C=10, class_weight='balanced', \n",
    "                degree=2, kernel='poly', max_iter=1000, \n",
    "                probability=True)\n",
    "\n",
    "BestSVM_Model.fit(Xtv,ytv)\n",
    "ypred = BestSVM_Model.predict(Xtest)\n",
    "\n",
    "print(\"Resultados Support Vector Machine - Test dataset using requested metrics (custom layout)\") \n",
    "\n",
    "val_acc = accuracy_score(ytest,ypred)           \n",
    "print(\"accuracy: \",val_acc)\n",
    "\n",
    "val_f1score = f1_score(ytest,ypred, average='macro')           \n",
    "print(\"F1 score_val: \",val_f1score)\n",
    "\n",
    "val_prec = precision_score(ytest,ypred, average='macro')           \n",
    "print(\"Precision_val: \",val_prec)\n",
    "\n",
    "val_recall = recall_score(ytest,ypred, average='macro')           \n",
    "print(\"Recall_val: \",val_recall)"
   ]
  },
  {
   "cell_type": "code",
   "execution_count": 16,
   "metadata": {},
   "outputs": [
    {
     "name": "stdout",
     "output_type": "stream",
     "text": [
      "Resultados Support Vector Machine - Test dataset (using standard and most used layout)\n",
      "Confusion matrix:\n",
      "[[52  6]\n",
      " [ 6 40]]\n",
      "\n",
      "\n",
      "Scores:\n",
      "              precision    recall  f1-score   support\n",
      "\n",
      "           0       0.90      0.90      0.90        58\n",
      "           1       0.87      0.87      0.87        46\n",
      "\n",
      "    accuracy                           0.88       104\n",
      "   macro avg       0.88      0.88      0.88       104\n",
      "weighted avg       0.88      0.88      0.88       104\n",
      "\n"
     ]
    }
   ],
   "source": [
    "# Accuracy is not displayed on standard layout, thats why we have both approaches written. We really should use only this due to the fact that\n",
    "# accuracy is more or less useless.\n",
    "\n",
    "XtestFit = preprocessor.fit(Xtest)\n",
    "XtestTransf = XtestFit.transform(Xtest)\n",
    "\n",
    "\n",
    "ypred = GS_SVM.predict(XtestTransf)\n",
    "\n",
    "print(\"Resultados Support Vector Machine - Test dataset (using standard and most used layout)\")\n",
    "\n",
    "print(\"Confusion matrix:\")\n",
    "print(confusion_matrix(ytest,ypred))\n",
    "print(\"\\n\")\n",
    "print(\"Scores:\")\n",
    "print(classification_report(ytest,ypred))#Output"
   ]
  },
  {
   "cell_type": "markdown",
   "metadata": {
    "id": "Rv7KFq-mC7PS"
   },
   "source": [
    "#**Ejercicio-5.**\n",
    "\n",
    "Obtener además los diagramas de caja y bigote del mejor modelo con todas las métricas calculadas. \n",
    "Incluye tus conclusiones\n",
    "\n",
    "    En todas las metricas, el modelo de Maquina Soporte Vectorial super al modelo DummyClassifier por mucho.\n",
    "    En 3 de las metricas, el modelo DummyClassifier no logra salir del 0% y obtiene un 50% aprox en la precision (Accuracy). Se concluye que es un modelo bastante malo par este tipo de problema de clasificacion."
   ]
  },
  {
   "cell_type": "code",
   "execution_count": 17,
   "metadata": {},
   "outputs": [],
   "source": [
    "def get_models():\n",
    "    \"\"\"\n",
    "    Usando los parámetros predeterminados de cada modelo. \n",
    "    \"\"\"\n",
    "    models = list()\n",
    "    names = list()\n",
    "\n",
    "    # DC - DummyClassifier:\n",
    "    models.append(DummyClassifier())\n",
    "    names.append('DummyClassifier')\n",
    "\n",
    "    # SVM - SupportVectorMachine:\n",
    "    models.append(svm.SVC())\n",
    "    names.append('SupportVectorMachine')\n",
    "\n",
    "\n",
    "    return models, names"
   ]
  },
  {
   "cell_type": "code",
   "execution_count": 18,
   "metadata": {},
   "outputs": [
    {
     "name": "stdout",
     "output_type": "stream",
     "text": [
      "Training score\n",
      "DummyClassifier:\n",
      "   mean Accuracy: 0.555 (0.0005) \n",
      "  mean F1 score: 0.000 (0.0000) \n",
      "  mean Precision: 0.000 (0.0000)\n",
      "  mean Recall: 0.000\n",
      "\n",
      "validation score\n",
      "DummyClassifier:\n",
      "   mean Accuracy: 0.555 (0.0019)  \n",
      "  mean F1 score: 0.000 (0.0000)  \n",
      "  mean Precision: 0.000 (0.0000) \n",
      "  mean Recall: 0.000\n",
      "\n",
      "Training score\n",
      "SupportVectorMachine:\n",
      "   mean Accuracy: 0.864 (0.0101) \n",
      "  mean F1 score: 0.847 (0.0118) \n",
      "  mean Precision: 0.852 (0.0097)\n",
      "  mean Recall: 0.841\n",
      "\n",
      "validation score\n",
      "SupportVectorMachine:\n",
      "   mean Accuracy: 0.850 (0.0306)  \n",
      "  mean F1 score: 0.828 (0.0375)  \n",
      "  mean Precision: 0.844 (0.0427) \n",
      "  mean Recall: 0.816\n",
      "\n"
     ]
    }
   ],
   "source": [
    "import warnings\n",
    "warnings.filterwarnings(\"ignore\")\n",
    "\n",
    "models, names = get_models()\n",
    "resultados = list()\n",
    "\n",
    "mismetricas = {\n",
    "    \"Accuracy\": make_scorer(accuracy_score),\n",
    "    \"F1 score\": make_scorer(f1_score),\n",
    "    \"Precision\": make_scorer(precision_score),\n",
    "    \"Recall\": make_scorer(recall_score),\n",
    "\n",
    "}\n",
    "\n",
    "for i in range(len(models)):\n",
    "  \n",
    "  kfold = RepeatedStratifiedKFold(n_splits=3, n_repeats=5)\n",
    "  pipeline = Pipeline(steps=[('m',models[i].fit(XtrainvalTransf,ytv.values.ravel()))])\n",
    "\n",
    "  resultadosOU = cross_validate(pipeline, XtrainvalTransf, ytv.values.ravel(), scoring=mismetricas, return_train_score=True, error_score='raise')\n",
    "\n",
    "  resultados.append(resultadosOU)\n",
    "  \n",
    "  print('Training score')\n",
    "\n",
    "  print('%s:\\n \\\n",
    "  mean Accuracy: %.3f (%.4f) \\n\\\n",
    "  mean F1 score: %.3f (%.4f) \\n\\\n",
    "  mean Precision: %.3f (%.4f)\\n\\\n",
    "  mean Recall: %.3f\\n' % (names[i],\n",
    "                            np.mean(resultadosOU['train_Accuracy']),\n",
    "                            np.std(resultadosOU['train_Accuracy']),\n",
    "                            np.mean(resultadosOU['train_F1 score']),\n",
    "                            np.std(resultadosOU['train_F1 score']), \n",
    "                            np.mean(resultadosOU['train_Precision']),\n",
    "                            np.std(resultadosOU['train_Precision']), \n",
    "                            np.mean(resultadosOU['train_Recall']),\n",
    "                            #np.std(resultadosOU['train_Recall'])\n",
    "                            ))\n",
    "\n",
    "  print('validation score')\n",
    "\n",
    "  print('%s:\\n \\\n",
    "  mean Accuracy: %.3f (%.4f)  \\n\\\n",
    "  mean F1 score: %.3f (%.4f)  \\n\\\n",
    "  mean Precision: %.3f (%.4f) \\n\\\n",
    "  mean Recall: %.3f\\n' % (names[i],\n",
    "                            np.mean(resultadosOU['test_Accuracy']),\n",
    "                            np.std(resultadosOU['test_Accuracy']),\n",
    "                            np.mean(resultadosOU['test_F1 score']),\n",
    "                            np.std(resultadosOU['test_F1 score']), \n",
    "                            np.mean(resultadosOU['test_Precision']),\n",
    "                            np.std(resultadosOU['test_Precision']), \n",
    "                            np.mean(resultadosOU['test_Recall']),\n",
    "                            #np.std(resultadosOU['test_recall'])\n",
    "                            ))\n"
   ]
  },
  {
   "cell_type": "code",
   "execution_count": 19,
   "metadata": {},
   "outputs": [
    {
     "data": {
      "image/png": "[encoded data removed]",
      "text/plain": [
       "<Figure size 1500x600 with 1 Axes>"
      ]
     },
     "metadata": {},
     "output_type": "display_data"
    }
   ],
   "source": [
    "\n",
    "best_model_scores = pd.DataFrame(resultados[0])\n",
    "\n",
    "plt.figure(figsize=(15, 6))\n",
    "plt.title(\"Metrics for WORST model (SVM)\")\n",
    "plt.boxplot(best_model_scores, labels=['fit_time','score_time','test_Accuracy','train_Accuracy','test_F1 score'\n",
    "                                    ,'train_F1 score','test_Precision','train_Precision','test_Recall','train_Recall'], showmeans=True)\n",
    "plt.xticks(rotation=45)                                    \n",
    "plt.show(block=True);"
   ]
  },
  {
   "cell_type": "code",
   "execution_count": 20,
   "metadata": {},
   "outputs": [
    {
     "data": {
      "image/png": "[encoded data removed]",
      "text/plain": [
       "<Figure size 1500x600 with 1 Axes>"
      ]
     },
     "metadata": {},
     "output_type": "display_data"
    }
   ],
   "source": [
    "best_model_scores = pd.DataFrame(resultados[1])\n",
    "\n",
    "plt.figure(figsize=(15, 6))\n",
    "plt.title(\"Metrics for BEST model (SVM)\")\n",
    "plt.boxplot(best_model_scores, labels=['fit_time','score_time','test_Accuracy','train_Accuracy','test_F1 score'\n",
    "                                    ,'train_F1 score','test_Precision','train_Precision','test_Recall','train_Recall'], showmeans=True)\n",
    "plt.xticks(rotation=45)                                    \n",
    "plt.show(block=True);"
   ]
  },
  {
   "cell_type": "markdown",
   "metadata": {
    "id": "W2S7LI0NC9wE"
   },
   "source": [
    "#**Ejercicio-6.**\n",
    "\n",
    "Verifica que el modelo no esté subentrenado o sobreentrenado mediante alguna de las gráficas de \n",
    "curvas de entrenamiento (aumentando la complejidad o aumentando el conjunto de entrenamiento, \n",
    "la que consideres más adecuada). De ser necesario, realiza los ajustes necesarios para evitar alguno \n",
    "de estos problemas. \n",
    "\n",
    "    Nuestro modelo nunca converge, muestra un poco de sobreentrenamiento."
   ]
  },
  {
   "cell_type": "code",
   "execution_count": 21,
   "metadata": {
    "id": "x6uBleJUC_AU"
   },
   "outputs": [],
   "source": [
    "\n",
    "\n",
    "def mi_LearningCurvePlot(train_sizes, train_scores, val_scores, xlabel, ylabel, title):\n",
    "\n",
    "    try:\n",
    "      train_mean = np.mean(train_scores, axis=1)\n",
    "      train_std = np.std(train_scores, axis=1)\n",
    "      val_mean = np.mean(val_scores, axis=1)\n",
    "      val_std = np.std(val_scores, axis=1)\n",
    "    except:\n",
    "      train_mean = np.mean(train_scores)\n",
    "      train_std = np.std(train_scores)\n",
    "      val_mean = np.mean(val_scores)\n",
    "      val_std = np.std(val_scores)\n",
    "\n",
    "    # Graficamos las curvas de aprendizaje incluyendo una región indicando la desviación estándar.\n",
    "    plt.figure(figsize=(7,6))\n",
    "    plt.plot(train_sizes, train_mean, color='blue', marker='o', markersize=5, label='Training')\n",
    "    plt.fill_between(train_sizes, train_mean + train_std, train_mean - train_std, alpha=0.1, color='blue')\n",
    "    \n",
    "    plt.plot(train_sizes, val_mean, color='red', marker='+', markersize=5, linestyle='--', label='Validation')\n",
    "    plt.fill_between(train_sizes, val_mean + val_std, val_mean - val_std, alpha=0.1, color='red')\n",
    "    \n",
    "    plt.title(title)\n",
    "    plt.xlabel(xlabel)\n",
    "    plt.ylabel(ylabel)\n",
    "    plt.grid(True)\n",
    "    plt.legend(loc='lower left')\n",
    "    plt.show()\n",
    "\n"
   ]
  },
  {
   "cell_type": "code",
   "execution_count": 22,
   "metadata": {
    "id": "n0P_AcyjC_Dh"
   },
   "outputs": [
    {
     "data": {
      "image/png": "[encoded data removed]",
      "text/plain": [
       "<Figure size 700x600 with 1 Axes>"
      ]
     },
     "metadata": {},
     "output_type": "display_data"
    }
   ],
   "source": [
    "\n",
    "\n",
    "pipeline = Pipeline(steps=[('m',models[i].fit(XtrainvalTransf,ytv.values.ravel()))])\n",
    "\n",
    "delta_train_sz = np.linspace(0.1, 1, 20)\n",
    "cv = RepeatedStratifiedKFold(n_splits=3, n_repeats=5)\n",
    "\n",
    "# Other possible scorings check sklearn.metrics.SCORERS.keys()\n",
    "tr_sizes, tr_scores, val_scores = learning_curve(estimator = pipeline ,    \n",
    "                                          X = XtrainvalTransf,\n",
    "                                          y = ytv.values.ravel(),\n",
    "                                          cv = cv ,\n",
    "                                          shuffle = True,\n",
    "                                          train_sizes = delta_train_sz ,\n",
    "                                          random_state=11,scoring ='f1')\n",
    "\n",
    "# Obtenemos el gráfico con las curvas de aprendizaje para f1 score:\n",
    "mi_LearningCurvePlot(tr_sizes, tr_scores, val_scores, \n",
    "                                                 'Tamaño de conjunto de entrenamiento', \n",
    "                                                 'f1-score', \n",
    "                                                 'Curvas de aprendizaje incrementando el tamaño de la muestra')\n",
    "\n"
   ]
  },
  {
   "cell_type": "markdown",
   "metadata": {
    "id": "iCNGx4TQ8CFI"
   },
   "source": [
    "#**Ejercicio-7.**\n",
    "\n",
    "Con los mejores hiperparámetros entontrados encontrar la gráfica de la curva ROC y su área bajo la curva"
   ]
  },
  {
   "cell_type": "code",
   "execution_count": 23,
   "metadata": {},
   "outputs": [
    {
     "name": "stdout",
     "output_type": "stream",
     "text": [
      "[[57  1]\n",
      " [38  8]]\n",
      "real-0: [0.548, 0.010]\n",
      "real-1: [0.365, 0.077]\n"
     ]
    }
   ],
   "source": [
    "\n",
    "#ypred = GS_SVM.predict(XtestTransf)\n",
    "ypred = BestSVM_Model.predict(Xtest)\n",
    "\n",
    "cm = confusion_matrix(ytest, ypred)    # los renglones son los reales y las columnas las predicciones.\n",
    "print(cm)\n",
    "\n",
    "tt = np.sum(cm)\n",
    "print('real-0: [%.3f, %.3f]' % (cm[0,0]/tt, cm[0,1]/tt))\n",
    "print('real-1: [%.3f, %.3f]' % (cm[1,0]/tt, cm[1,1]/tt))"
   ]
  },
  {
   "cell_type": "code",
   "execution_count": 24,
   "metadata": {},
   "outputs": [
    {
     "name": "stdout",
     "output_type": "stream",
     "text": [
      "TP_rate-recall:0.17391\n",
      "FP_rate:0.01724\n"
     ]
    }
   ],
   "source": [
    "TPrate = cm[1,1]/(cm[1,0]+cm[1,1])\n",
    "FPrate = cm[0,1]/(cm[0,0]+cm[0,1])\n",
    "print('TP_rate-recall:%.5f' % TPrate)\n",
    "print('FP_rate:%.5f' % FPrate)"
   ]
  },
  {
   "cell_type": "code",
   "execution_count": 25,
   "metadata": {},
   "outputs": [
    {
     "data": {
      "image/png": "[encoded data removed]",
      "text/plain": [
       "<Figure size 640x480 with 1 Axes>"
      ]
     },
     "metadata": {},
     "output_type": "display_data"
    }
   ],
   "source": [
    "RocCurveDisplay.from_estimator(BestSVM_Model, Xtest, ytest)\n",
    "plt.plot([0,0,1,0],[0,1,1,0], 'y--')\n",
    "plt.hlines(TPrate, 0, FPrate, colors='r', linestyles='dotted')  # Se calcula TPrate y FPrate con base a threshold=0.5\n",
    "plt.vlines(FPrate, 0, TPrate, colors='r', linestyles='dotted')  # Pero el mejor umbral para que ambos errores estén lo más equilibrados\n",
    "plt.show()    "
   ]
  },
  {
   "cell_type": "code",
   "execution_count": null,
   "metadata": {},
   "outputs": [],
   "source": []
  },
  {
   "cell_type": "markdown",
   "metadata": {
    "id": "tzQn5NR78GFg"
   },
   "source": [
    "#**Ejercicio-8.**\n",
    "\n",
    "Encontrar el valor del mejor umbral de predicción del modelo que maximice el valor de la métrica \n",
    "f1-score"
   ]
  },
  {
   "cell_type": "code",
   "execution_count": 26,
   "metadata": {
    "id": "vp8S0PFs8IMR"
   },
   "outputs": [],
   "source": [
    "None"
   ]
  },
  {
   "cell_type": "code",
   "execution_count": null,
   "metadata": {},
   "outputs": [],
   "source": []
  },
  {
   "cell_type": "markdown",
   "metadata": {
    "id": "mASNrZWs8JTh"
   },
   "source": [
    "#**Ejercicio-9.**\n",
    "\n",
    "Encontrar el valor del mejor umbral de predicción del modelo que maximice el valor de la métrica g-mean"
   ]
  },
  {
   "cell_type": "code",
   "execution_count": 27,
   "metadata": {
    "id": "X6HJP9hb8LCp"
   },
   "outputs": [],
   "source": [
    "None"
   ]
  },
  {
   "cell_type": "code",
   "execution_count": null,
   "metadata": {
    "id": "Xr6oe1VF8K_A"
   },
   "outputs": [],
   "source": []
  },
  {
   "cell_type": "markdown",
   "metadata": {
    "id": "VUIcDshs8MzG"
   },
   "source": [
    "#**Ejercicio-10.**\n",
    "\n",
    ". Incluye tus conclusiones finales de la actividad."
   ]
  },
  {
   "cell_type": "code",
   "execution_count": 28,
   "metadata": {
    "id": "0lKNJNIt8N88"
   },
   "outputs": [],
   "source": [
    "None"
   ]
  },
  {
   "cell_type": "markdown",
   "metadata": {
    "id": "7ql_r2G-DB_m"
   },
   "source": [
    "###**Fin de la Actividad de la semana 8.**"
   ]
  }
 ],
 "metadata": {
  "colab": {
   "collapsed_sections": [],
   "provenance": []
  },
  "kernelspec": {
   "display_name": "Python 3.7.9 64-bit ('master_machine_learning_Class')",
   "language": "python",
   "name": "python3"
  },
  "language_info": {
   "codemirror_mode": {
    "name": "ipython",
    "version": 3
   },
   "file_extension": ".py",
   "mimetype": "text/x-python",
   "name": "python",
   "nbconvert_exporter": "python",
   "pygments_lexer": "ipython3",
   "version": "3.7.9"
  },
  "vscode": {
   "interpreter": {
    "hash": "361345cd53dd912a56e364787928bc9626feed8d95da46a3f8d3719997bc9bc7"
   }
  }
 },
 "nbformat": 4,
 "nbformat_minor": 1
}
